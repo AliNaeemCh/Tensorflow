{
 "cells": [
  {
   "cell_type": "markdown",
   "metadata": {},
   "source": [
    "# Binary Classification with k-Fold Cross Validation"
   ]
  },
  {
   "cell_type": "code",
   "execution_count": 8,
   "metadata": {},
   "outputs": [],
   "source": [
    "import tensorflow as tf\n",
    "from sklearn.model_selection import train_test_split, StratifiedKFold\n",
    "from sklearn.preprocessing import MinMaxScaler\n",
    "import pandas as pd\n",
    "from sklearn.metrics import classification_report, f1_score\n",
    "import numpy as np"
   ]
  },
  {
   "cell_type": "code",
   "execution_count": 9,
   "metadata": {},
   "outputs": [],
   "source": [
    "df = pd.read_csv('datasets/fraud_detection.csv')\n",
    "X = df.iloc[:, 1:-1]\n",
    "y = df['targets']"
   ]
  },
  {
   "cell_type": "code",
   "execution_count": 10,
   "metadata": {},
   "outputs": [],
   "source": [
    "X_main, X_holdout, y_main, y_holdout = train_test_split(X, y, test_size=0.2, random_state=11)\n",
    "mm  = MinMaxScaler()\n",
    "X_holdout = mm.fit_transform(X_holdout)\n",
    "X_main = X_main.to_numpy()\n",
    "y_main = y_main.to_numpy()\n",
    "y_holdout = y_holdout.to_numpy()"
   ]
  },
  {
   "cell_type": "code",
   "execution_count": 11,
   "metadata": {},
   "outputs": [
    {
     "data": {
      "text/plain": [
       "(16374, 112)"
      ]
     },
     "execution_count": 11,
     "metadata": {},
     "output_type": "execute_result"
    }
   ],
   "source": [
    "X_main.shape"
   ]
  },
  {
   "cell_type": "code",
   "execution_count": 12,
   "metadata": {},
   "outputs": [
    {
     "data": {
      "text/plain": [
       "(4094, 112)"
      ]
     },
     "execution_count": 12,
     "metadata": {},
     "output_type": "execute_result"
    }
   ],
   "source": [
    "X_holdout.shape"
   ]
  },
  {
   "cell_type": "code",
   "execution_count": 16,
   "metadata": {},
   "outputs": [
    {
     "name": "stdout",
     "output_type": "stream",
     "text": [
      "Fold: 1\n",
      "Fold F1: 0.8403894602890003\n",
      "\n",
      "Fold: 2\n",
      "Fold F1: 0.8328204707112381\n",
      "\n",
      "Fold: 3\n",
      "Fold F1: 0.8447228429492255\n",
      "\n",
      "Fold: 4\n",
      "Fold F1: 0.8437072068550302\n",
      "\n",
      "Fold: 5\n",
      "Fold F1: 0.8325217602845573\n",
      "\n",
      "Fold: 6\n",
      "Fold F1: 0.8446430580048759\n",
      "\n",
      "Fold: 7\n",
      "Fold F1: 0.8382108164743376\n",
      "\n",
      "Fold: 8\n",
      "Fold F1: 0.8400022854847489\n",
      "\n",
      "Fold: 9\n",
      "Fold F1: 0.8375061499949383\n",
      "\n",
      "Fold: 10\n",
      "Fold F1: 0.8487815345943778\n",
      "\n",
      "Best fold:  10\n",
      "Best model params:\n",
      "\n",
      "F1 score for cross validation set: 0.8487815345943778\n",
      "F1 score for hold out set: 0.847544141677466\n",
      "\n",
      "Classification Report of Best Model:\n",
      "               precision    recall  f1-score   support\n",
      "\n",
      "           0       0.88      0.93      0.90      3034\n",
      "           1       0.76      0.62      0.69      1060\n",
      "\n",
      "    accuracy                           0.85      4094\n",
      "   macro avg       0.82      0.78      0.80      4094\n",
      "weighted avg       0.85      0.85      0.85      4094\n",
      "\n"
     ]
    }
   ],
   "source": [
    "k = 10 # 10 folds\n",
    "skf = StratifiedKFold(k, shuffle=True, random_state=42)\n",
    "fold = 0\n",
    "best_model = None\n",
    "best_fold = 0\n",
    "best_model_f1 = 0\n",
    "for train_idx, test_idx in skf.split(X_main, y_main):\n",
    "    # In argument of skf.split, along with X_main, you have to give the target variables array y_main which contains classes as [0,1,1,2,3,4,4,5,5].\n",
    "    # It is useful for even distribution of different class instances among the folds.\n",
    "    # train_idx and test_idx are the arrays like: [1,2,3,4] which contains indices of the passed array X_main\n",
    "    fold += 1\n",
    "    print(f\"Fold: {fold}\")\n",
    "    X_train = X_main[train_idx]\n",
    "    y_train = y_main[train_idx]\n",
    "    X_val = X_main[test_idx]\n",
    "    y_val = y_main[test_idx]\n",
    "    X_train = mm.fit_transform(X_train)\n",
    "    X_val = mm.fit_transform(X_val)\n",
    "    model = tf.keras.Sequential([\n",
    "        tf.keras.Input(shape= (X_train.shape[1],) ),\n",
    "        tf.keras.layers.Dense(units=1) \n",
    "])\n",
    "    model.compile(loss=tf.keras.losses.BinaryCrossentropy(from_logits=True),\n",
    "                optimizer=tf.keras.optimizers.SGD(learning_rate=1.))\n",
    "    model.fit(X_train,y_train,validation_data=(X_val,y_val), batch_size=10000, epochs=100, verbose=0)\n",
    "    logit = model.predict(X_val, verbose=0) # This is the raw answer of equation wx+b\n",
    "    y_pred = np.array(tf.nn.sigmoid(logit))\n",
    "    y_pred_classes = np.where(y_pred > 0.5, 1, 0)\n",
    "    weighted_f1 = f1_score(y_val, y_pred_classes, average='weighted')\n",
    "    if weighted_f1 > best_model_f1:\n",
    "        best_model = model\n",
    "        best_fold = fold\n",
    "        best_model_f1 = weighted_f1\n",
    "    print(f\"Fold F1: {weighted_f1}\\n\")\n",
    "\n",
    "logit_holdout = best_model.predict(X_holdout, verbose=0)\n",
    "y_pred_holdout = np.array(tf.nn.sigmoid(logit_holdout))\n",
    "y_pred_holdout_classes = np.where(y_pred_holdout > 0.5, 1, 0)\n",
    "f1_holdout = f1_score(y_holdout, y_pred_holdout_classes, average='weighted')\n",
    "print('Best fold: ', best_fold)\n",
    "print('Best model params:\\n')\n",
    "print(f'F1 score for cross validation set: {best_model_f1}') \n",
    "print(f'F1 score for hold out set: {f1_holdout}') \n",
    "cr = classification_report(y_holdout, y_pred_holdout_classes)\n",
    "print('\\nClassification Report of Best Model:\\n', cr)\n"
   ]
  }
 ],
 "metadata": {
  "kernelspec": {
   "display_name": "base",
   "language": "python",
   "name": "python3"
  },
  "language_info": {
   "codemirror_mode": {
    "name": "ipython",
    "version": 3
   },
   "file_extension": ".py",
   "mimetype": "text/x-python",
   "name": "python",
   "nbconvert_exporter": "python",
   "pygments_lexer": "ipython3",
   "version": "3.11.7"
  }
 },
 "nbformat": 4,
 "nbformat_minor": 2
}
