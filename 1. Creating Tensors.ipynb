{
 "cells": [
  {
   "cell_type": "markdown",
   "metadata": {},
   "source": [
    "# Creating Tensors\n",
    "- Constant Tensors\n",
    "- Variable Tensors\n",
    "- Random Tensors"
   ]
  },
  {
   "cell_type": "markdown",
   "metadata": {},
   "source": [
    "#### What is a tensor?\n",
    "A tensor is a numerical representation of data like input or output."
   ]
  },
  {
   "cell_type": "code",
   "execution_count": 1,
   "metadata": {},
   "outputs": [],
   "source": [
    "import tensorflow as tf"
   ]
  },
  {
   "cell_type": "markdown",
   "metadata": {},
   "source": [
    "#### Constant Tensors\n",
    "Constant tensors can't be modified"
   ]
  },
  {
   "cell_type": "code",
   "execution_count": 2,
   "metadata": {},
   "outputs": [
    {
     "name": "stdout",
     "output_type": "stream",
     "text": [
      "Scalar tensor is: tf.Tensor(7, shape=(), dtype=int32)\n",
      "Dimension of scalar tensor: 0\n"
     ]
    }
   ],
   "source": [
    "# Scalar tensor\n",
    "scalar = tf.constant(7)\n",
    "print('Scalar tensor is:', scalar)\n",
    "print('Dimension of scalar tensor:', scalar.ndim)"
   ]
  },
  {
   "cell_type": "code",
   "execution_count": 3,
   "metadata": {},
   "outputs": [
    {
     "name": "stdout",
     "output_type": "stream",
     "text": [
      "Vector tensor is: tf.Tensor([10 10], shape=(2,), dtype=int32)\n",
      "Dimension of vector tensor: 1\n"
     ]
    }
   ],
   "source": [
    "# 1D tensor\n",
    "vector = tf.constant([10,10])\n",
    "print('Vector tensor is:', vector)\n",
    "print('Dimension of vector tensor:', vector.ndim)"
   ]
  },
  {
   "cell_type": "code",
   "execution_count": 4,
   "metadata": {},
   "outputs": [
    {
     "name": "stdout",
     "output_type": "stream",
     "text": [
      "Matrix tensor is: tf.Tensor(\n",
      "[[10.  7.]\n",
      " [ 7. 10.]], shape=(2, 2), dtype=float16)\n",
      "Dimension of matrix tensor: 2\n"
     ]
    }
   ],
   "source": [
    "# 2D tensor with custom datatype\n",
    "matrix = tf.constant([ [10,7], [7,10] ], dtype=tf.float16)\n",
    "print('Matrix tensor is:', matrix)\n",
    "print('Dimension of matrix tensor:', matrix.ndim)"
   ]
  },
  {
   "cell_type": "markdown",
   "metadata": {},
   "source": [
    "### Typecasting"
   ]
  },
  {
   "cell_type": "code",
   "execution_count": 6,
   "metadata": {},
   "outputs": [
    {
     "data": {
      "text/plain": [
       "<tf.Tensor: shape=(2, 2), dtype=int8, numpy=\n",
       "array([[10,  7],\n",
       "       [ 7, 10]], dtype=int8)>"
      ]
     },
     "execution_count": 6,
     "metadata": {},
     "output_type": "execute_result"
    }
   ],
   "source": [
    "matrix_casted = tf.cast(matrix, dtype=tf.int8)\n",
    "matrix_casted"
   ]
  },
  {
   "cell_type": "markdown",
   "metadata": {},
   "source": [
    "#### Variable Tensors\n",
    "Variable tensors are mutable"
   ]
  },
  {
   "cell_type": "code",
   "execution_count": 13,
   "metadata": {},
   "outputs": [
    {
     "name": "stdout",
     "output_type": "stream",
     "text": [
      "Matrix tensor is: <tf.Variable 'Variable:0' shape=(2, 2) dtype=float16, numpy=\n",
      "array([[10.,  7.],\n",
      "       [ 7., 10.]], dtype=float16)>\n",
      "Matrix tensor after modification is: <tf.Variable 'Variable:0' shape=(2, 2) dtype=float16, numpy=\n",
      "array([[10. ,  7. ],\n",
      "       [ 7. , 20.5]], dtype=float16)>\n"
     ]
    }
   ],
   "source": [
    "# 2D tensor\n",
    "matrix = tf.Variable([ [10,7], [7,10] ], dtype=tf.float16)\n",
    "print('Matrix tensor is:', matrix)\n",
    "matrix[1,1].assign(20.5)\n",
    "print('Matrix tensor after modification is:', matrix)"
   ]
  },
  {
   "cell_type": "markdown",
   "metadata": {},
   "source": [
    "# Random Tensors"
   ]
  },
  {
   "cell_type": "code",
   "execution_count": 45,
   "metadata": {},
   "outputs": [
    {
     "data": {
      "text/plain": [
       "<tf.Tensor: shape=(1, 10), dtype=float32, numpy=\n",
       "array([[-0.8364757 , -1.6083385 , -2.203379  , -0.8625273 ,  2.0652692 ,\n",
       "        -1.4458216 , -0.23886982, -0.34827712, -2.0801694 , -0.8323247 ]],\n",
       "      dtype=float32)>"
      ]
     },
     "execution_count": 45,
     "metadata": {},
     "output_type": "execute_result"
    }
   ],
   "source": [
    "# Random tensors from normal distribution\n",
    "random0 = tf.random.normal(shape=(1,10))\n",
    "random0"
   ]
  },
  {
   "cell_type": "code",
   "execution_count": 22,
   "metadata": {},
   "outputs": [
    {
     "data": {
      "text/plain": [
       "(<tf.Tensor: shape=(3, 2), dtype=float32, numpy=\n",
       " array([[-0.7565803 , -0.06854702],\n",
       "        [ 0.07595026, -1.2573844 ],\n",
       "        [-0.23193763, -1.8107855 ]], dtype=float32)>,\n",
       " <tf.Tensor: shape=(3, 2), dtype=float32, numpy=\n",
       " array([[-0.7565803 , -0.06854702],\n",
       "        [ 0.07595026, -1.2573844 ],\n",
       "        [-0.23193763, -1.8107855 ]], dtype=float32)>)"
      ]
     },
     "execution_count": 22,
     "metadata": {},
     "output_type": "execute_result"
    }
   ],
   "source": [
    "# Reporducable random sequence generation\n",
    "random1 = tf.random.Generator.from_seed(42)\n",
    "random2 = tf.random.Generator.from_seed(42)\n",
    "# from_seed is used to reproduce a certain randomness\n",
    "random1 = random1.normal(shape=(3,2))\n",
    "random2 = random2.normal(shape=(3,2))\n",
    "random1, random2"
   ]
  },
  {
   "cell_type": "markdown",
   "metadata": {},
   "source": [
    "### NumPy to Tensor"
   ]
  },
  {
   "cell_type": "code",
   "execution_count": 7,
   "metadata": {},
   "outputs": [],
   "source": [
    "import numpy as np"
   ]
  },
  {
   "cell_type": "code",
   "execution_count": 9,
   "metadata": {},
   "outputs": [
    {
     "data": {
      "text/plain": [
       "<tf.Tensor: shape=(5,), dtype=int8, numpy=array([1, 2, 3, 4, 5], dtype=int8)>"
      ]
     },
     "execution_count": 9,
     "metadata": {},
     "output_type": "execute_result"
    }
   ],
   "source": [
    "vec1 = np.array([1,2,3,4,5])\n",
    "vec2 = tf.convert_to_tensor(vec1, dtype=tf.int8)\n",
    "vec2"
   ]
  }
 ],
 "metadata": {
  "kernelspec": {
   "display_name": "base",
   "language": "python",
   "name": "python3"
  },
  "language_info": {
   "codemirror_mode": {
    "name": "ipython",
    "version": 3
   },
   "file_extension": ".py",
   "mimetype": "text/x-python",
   "name": "python",
   "nbconvert_exporter": "python",
   "pygments_lexer": "ipython3",
   "version": "3.11.7"
  }
 },
 "nbformat": 4,
 "nbformat_minor": 2
}
