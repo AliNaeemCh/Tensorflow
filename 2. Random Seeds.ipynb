{
 "cells": [
  {
   "cell_type": "markdown",
   "metadata": {},
   "source": [
    "# Random Seeds\n",
    "A random seed is a starting point to generate random numbers. Using the same seed, the random number generation can be reproduced every time the program runs.\n",
    "\n",
    "There are two types of seeds:\n",
    "- Global level seeds\n",
    "- Operation level seeds\n",
    "\n",
    "Global level seeds work in conjunction with operational level seeds to generate random numbers.\n",
    "\n",
    "More info: https://www.tensorflow.org/api_docs/python/tf/random/set_seed\n",
    "\n"
   ]
  },
  {
   "cell_type": "code",
   "execution_count": 2,
   "metadata": {},
   "outputs": [],
   "source": [
    "import tensorflow as tf"
   ]
  },
  {
   "cell_type": "code",
   "execution_count": 13,
   "metadata": {},
   "outputs": [
    {
     "data": {
      "text/plain": [
       "<tf.Tensor: shape=(3, 3), dtype=int32, numpy=\n",
       "array([[1, 2, 3],\n",
       "       [4, 5, 6],\n",
       "       [7, 8, 9]])>"
      ]
     },
     "execution_count": 13,
     "metadata": {},
     "output_type": "execute_result"
    }
   ],
   "source": [
    "vector = tf.constant([ [1,2,3], [4,5,6], [7,8,9] ])\n",
    "vector"
   ]
  },
  {
   "cell_type": "code",
   "execution_count": 28,
   "metadata": {},
   "outputs": [
    {
     "data": {
      "text/plain": [
       "<tf.Tensor: shape=(3, 3), dtype=int32, numpy=\n",
       "array([[7, 8, 9],\n",
       "       [1, 2, 3],\n",
       "       [4, 5, 6]])>"
      ]
     },
     "execution_count": 28,
     "metadata": {},
     "output_type": "execute_result"
    }
   ],
   "source": [
    "tf.random.set_seed(1234) # Setting global level seed\n",
    "shuffled = tf.random.shuffle(vector)\n",
    "shuffled\n",
    "# Every time you run this cell, the shuffling order will be same\n"
   ]
  },
  {
   "cell_type": "markdown",
   "metadata": {},
   "source": [
    "What `tf.random.set_seed()` does is it defines a starting point for random sequence generation. The reason you are getting same shuffling order is that the command `tf.random.set_seed()` is also written in that cell which resets the starting point.\n",
    "\n",
    "Let's see what happens when we defines the starting point once:\n"
   ]
  },
  {
   "cell_type": "code",
   "execution_count": 29,
   "metadata": {},
   "outputs": [],
   "source": [
    "tf.random.set_seed(1234) # Setting global level seed"
   ]
  },
  {
   "cell_type": "code",
   "execution_count": 46,
   "metadata": {},
   "outputs": [
    {
     "data": {
      "text/plain": [
       "<tf.Tensor: shape=(3, 3), dtype=int32, numpy=\n",
       "array([[4, 5, 6],\n",
       "       [1, 2, 3],\n",
       "       [7, 8, 9]])>"
      ]
     },
     "execution_count": 46,
     "metadata": {},
     "output_type": "execute_result"
    }
   ],
   "source": [
    "shuffled2 = tf.random.shuffle(vector)\n",
    "shuffled2\n",
    "# You should get different shuffling order every time you run this cell"
   ]
  },
  {
   "cell_type": "markdown",
   "metadata": {},
   "source": [
    "When you don't define the operation level seed, as in the above example, tensorflow automatically picks an operational level seed in conjunction with your global level seed. Which means that every time the global level seed is set or reset, the same sequence will generate afterwards."
   ]
  },
  {
   "cell_type": "code",
   "execution_count": 57,
   "metadata": {},
   "outputs": [
    {
     "data": {
      "text/plain": [
       "<tf.Tensor: shape=(3, 3), dtype=int32, numpy=\n",
       "array([[1, 2, 3],\n",
       "       [7, 8, 9],\n",
       "       [4, 5, 6]])>"
      ]
     },
     "execution_count": 57,
     "metadata": {},
     "output_type": "execute_result"
    }
   ],
   "source": [
    "# Defining both global and operation level seeds\n",
    "tf.random.set_seed(1234) # Setting global level seed\n",
    "shuffled = tf.random.shuffle(vector, seed=100) # Defining operation level seed\n",
    "shuffled\n",
    "# Every time you run this cell, the shuffling order will be same\n",
    "\n"
   ]
  }
 ],
 "metadata": {
  "kernelspec": {
   "display_name": "base",
   "language": "python",
   "name": "python3"
  },
  "language_info": {
   "codemirror_mode": {
    "name": "ipython",
    "version": 3
   },
   "file_extension": ".py",
   "mimetype": "text/x-python",
   "name": "python",
   "nbconvert_exporter": "python",
   "pygments_lexer": "ipython3",
   "version": "3.11.7"
  }
 },
 "nbformat": 4,
 "nbformat_minor": 2
}
